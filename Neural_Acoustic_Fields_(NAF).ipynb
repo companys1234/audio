{
  "nbformat": 4,
  "nbformat_minor": 0,
  "metadata": {
    "colab": {
      "provenance": []
    },
    "kernelspec": {
      "name": "python3",
      "display_name": "Python 3"
    },
    "language_info": {
      "name": "python"
    }
  },
  "cells": [
    {
      "cell_type": "code",
      "source": [
        "import torch\n",
        "import torch.nn as nn\n",
        "import numpy as np\n",
        "\n",
        "class NeuralAcousticField(nn.Module):\n",
        "    def __init__(self, hidden_dim=256):\n",
        "        super().__init__()\n",
        "        # Теперь 6 входных признаков: x,y,z источника + x,y,z слушателя\n",
        "        self.net = nn.Sequential(\n",
        "            nn.Linear(6, hidden_dim),\n",
        "            nn.ReLU(),\n",
        "            nn.Linear(hidden_dim, hidden_dim),\n",
        "            nn.ReLU(),\n",
        "            nn.Linear(hidden_dim, 3)  # amplitude, delay, reverb_decay\n",
        "        )\n",
        "\n",
        "    def forward(self, coords):\n",
        "        return self.net(coords)"
      ],
      "metadata": {
        "id": "EoGUkDrqew43"
      },
      "execution_count": 4,
      "outputs": []
    },
    {
      "cell_type": "code",
      "execution_count": 5,
      "metadata": {
        "id": "XIX8sJFsdkaV"
      },
      "outputs": [],
      "source": [
        "def generate_training_data(num_samples=1000):\n",
        "    \"\"\"Генерация данных: source_pos + listener_pos = 6 координат\"\"\"\n",
        "    sources = np.random.rand(num_samples, 3) * [10, 10, 3]  # x,y,z источника\n",
        "    listeners = np.random.rand(num_samples, 3) * [10, 10, 3] # x,y,z слушателя\n",
        "\n",
        "    # Физическая модель (упрощенная)\n",
        "    distances = np.linalg.norm(sources - listeners, axis=1)\n",
        "    amplitudes = 1.0 / (distances + 1e-5)\n",
        "    delays = distances / 343.0  # Скорость звука\n",
        "    reverbs = 0.5 * np.exp(-distances/5.0)\n",
        "\n",
        "    # Входные координаты (6D: source_x,y,z + listener_x,y,z)\n",
        "    coords = np.concatenate([sources, listeners], axis=1)\n",
        "\n",
        "    return torch.FloatTensor(coords), torch.FloatTensor(np.column_stack((\n",
        "        amplitudes, delays, reverbs\n",
        "    )))"
      ]
    },
    {
      "cell_type": "code",
      "source": [
        "# Инициализация\n",
        "model = NeuralAcousticField()\n",
        "optimizer = torch.optim.Adam(model.parameters(), lr=1e-3)\n",
        "criterion = nn.MSELoss()\n",
        "\n",
        "# Данные (5000 samples, 6 координат)\n",
        "X, y = generate_training_data(5000)\n",
        "\n",
        "# Обучение\n",
        "for epoch in range(1000):\n",
        "    optimizer.zero_grad()\n",
        "    preds = model(X)\n",
        "    loss = criterion(preds, y)\n",
        "    loss.backward()\n",
        "    optimizer.step()\n",
        "\n",
        "    if epoch % 100 == 0:\n",
        "        print(f\"Epoch {epoch}, Loss: {loss.item():.4f}\")"
      ],
      "metadata": {
        "colab": {
          "base_uri": "https://localhost:8080/"
        },
        "id": "cpdxvImoes1n",
        "outputId": "2f72fd25-5118-436b-970a-c8d23c6ad74a"
      },
      "execution_count": 6,
      "outputs": [
        {
          "output_type": "stream",
          "name": "stdout",
          "text": [
            "Epoch 0, Loss: 0.3620\n",
            "Epoch 100, Loss: 0.0093\n",
            "Epoch 200, Loss: 0.0049\n",
            "Epoch 300, Loss: 0.0032\n",
            "Epoch 400, Loss: 0.0019\n",
            "Epoch 500, Loss: 0.0012\n",
            "Epoch 600, Loss: 0.0007\n",
            "Epoch 700, Loss: 0.0004\n",
            "Epoch 800, Loss: 0.0003\n",
            "Epoch 900, Loss: 0.0002\n"
          ]
        }
      ]
    },
    {
      "cell_type": "code",
      "source": [
        "def predict_acoustics(model, source_pos, listener_pos):\n",
        "    coords = torch.FloatTensor(np.concatenate([\n",
        "        source_pos,  # [x,y,z] источника\n",
        "        listener_pos  # [x,y,z] слушателя\n",
        "    ])).unsqueeze(0)  # Добавляем batch-размер\n",
        "\n",
        "    with torch.no_grad():\n",
        "        amp, delay, reverb = model(coords)[0]\n",
        "\n",
        "    print(f\"Amplitude: {amp.item():.2f}\")\n",
        "    print(f\"Delay: {delay.item():.4f}s\")\n",
        "    print(f\"Reverb decay: {reverb.item():.2f}\")\n",
        "\n",
        "# Пример вызова\n",
        "predict_acoustics(model, [2.0, 3.0, 1.5], [5.0, 4.0, 1.5])"
      ],
      "metadata": {
        "colab": {
          "base_uri": "https://localhost:8080/"
        },
        "id": "hY9TkW16e6YY",
        "outputId": "a83d2149-285a-446c-866a-b1a7253f641c"
      },
      "execution_count": 7,
      "outputs": [
        {
          "output_type": "stream",
          "name": "stdout",
          "text": [
            "Amplitude: 0.32\n",
            "Delay: 0.0068s\n",
            "Reverb decay: 0.25\n"
          ]
        }
      ]
    }
  ]
}